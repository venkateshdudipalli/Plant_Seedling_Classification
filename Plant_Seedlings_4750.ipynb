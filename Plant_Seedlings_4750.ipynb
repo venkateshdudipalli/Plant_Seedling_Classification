{
 "cells": [
  {
   "cell_type": "markdown",
   "metadata": {
    "colab_type": "text",
    "id": "26uZJ4PZ-bwQ"
   },
   "source": [
    "# Plant Seedling Classification"
   ]
  },
  {
   "cell_type": "code",
   "execution_count": 42,
   "metadata": {
    "colab": {
     "base_uri": "https://localhost:8080/",
     "height": 70
    },
    "colab_type": "code",
    "id": "oxL3AV-U-pjD",
    "outputId": "7f2a7312-ec9e-499d-a486-34d492cc0398"
   },
   "outputs": [],
   "source": [
    "#list of useful imports that  I will use\n",
    "%matplotlib inline\n",
    "import os\n",
    "\n",
    "import matplotlib.pyplot as plt\n",
    "import pandas as pd\n",
    "import cv2\n",
    "import numpy as np\n",
    "from glob import glob\n",
    "import seaborn as sns\n",
    "import random\n",
    "from keras.preprocessing import image \n",
    "import re\n",
    "\n",
    "from keras.utils.np_utils import to_categorical # convert to one-hot-encoding\n",
    "from keras.models import Sequential\n",
    "from keras.layers import Dense, Dropout, Flatten, Conv2D, MaxPool2D, GlobalMaxPooling2D\n",
    "from keras.optimizers import RMSprop\n",
    "from keras.preprocessing.image import ImageDataGenerator\n",
    "from keras.optimizers import Adam"
   ]
  },
  {
   "cell_type": "code",
   "execution_count": 43,
   "metadata": {
    "colab": {
     "base_uri": "https://localhost:8080/",
     "height": 33
    },
    "colab_type": "code",
    "id": "1oZfUUP7qx3t",
    "outputId": "2b40b663-c0cb-4ca9-a06a-5d72e7a86af5"
   },
   "outputs": [],
   "source": [
    "path = 'Plant_seedling/train'"
   ]
  },
  {
   "cell_type": "code",
   "execution_count": 44,
   "metadata": {
    "colab": {
     "base_uri": "https://localhost:8080/",
     "height": 84
    },
    "colab_type": "code",
    "id": "Orho626ts1LW",
    "outputId": "bf5077d0-60fc-443a-a2f8-be1462422a63"
   },
   "outputs": [],
   "source": [
    "data = os.listdir(path)"
   ]
  },
  {
   "cell_type": "code",
   "execution_count": 45,
   "metadata": {
    "colab": {
     "base_uri": "https://localhost:8080/",
     "height": 1000
    },
    "colab_type": "code",
    "id": "T69UrVtmtW5m",
    "outputId": "dbb68605-adab-4107-b61d-edb577c541c1"
   },
   "outputs": [
    {
     "data": {
      "text/plain": [
       "['Black-grass',\n",
       " 'Charlock',\n",
       " 'Cleavers',\n",
       " 'Common Chickweed',\n",
       " 'Common wheat',\n",
       " 'Fat Hen',\n",
       " 'Loose Silky-bent',\n",
       " 'Maize',\n",
       " 'Scentless Mayweed',\n",
       " 'Shepherds Purse',\n",
       " 'Small-flowered Cranesbill',\n",
       " 'Sugar beet']"
      ]
     },
     "execution_count": 45,
     "metadata": {},
     "output_type": "execute_result"
    }
   ],
   "source": [
    "data"
   ]
  },
  {
   "cell_type": "markdown",
   "metadata": {
    "colab_type": "text",
    "id": "iVi4KSfT8zKg"
   },
   "source": [
    "**Read images and remove missing values save images in images listt**"
   ]
  },
  {
   "cell_type": "code",
   "execution_count": 46,
   "metadata": {
    "colab": {
     "base_uri": "https://localhost:8080/",
     "height": 217
    },
    "colab_type": "code",
    "id": "o8iNFfsnSAch",
    "outputId": "c1bdbe41-47b8-49bd-d4bf-5e8bcc6d1e24"
   },
   "outputs": [
    {
     "data": {
      "text/plain": [
       "['Black-grass',\n",
       " 'Charlock',\n",
       " 'Cleavers',\n",
       " 'Common Chickweed',\n",
       " 'Common wheat',\n",
       " 'Fat Hen',\n",
       " 'Loose Silky-bent',\n",
       " 'Maize',\n",
       " 'Scentless Mayweed',\n",
       " 'Shepherds Purse',\n",
       " 'Small-flowered Cranesbill',\n",
       " 'Sugar beet']"
      ]
     },
     "execution_count": 46,
     "metadata": {},
     "output_type": "execute_result"
    }
   ],
   "source": [
    "data"
   ]
  },
  {
   "cell_type": "code",
   "execution_count": 47,
   "metadata": {
    "colab": {},
    "colab_type": "code",
    "id": "W_N42Qd6uYSn"
   },
   "outputs": [
    {
     "ename": "TypeError",
     "evalue": "expected str, bytes or os.PathLike object, not list",
     "output_type": "error",
     "traceback": [
      "\u001b[1;31m---------------------------------------------------------------------------\u001b[0m",
      "\u001b[1;31mTypeError\u001b[0m                                 Traceback (most recent call last)",
      "\u001b[1;32m<ipython-input-47-10461bff7a3b>\u001b[0m in \u001b[0;36m<module>\u001b[1;34m\u001b[0m\n\u001b[0;32m      3\u001b[0m \u001b[0mmissing\u001b[0m\u001b[1;33m=\u001b[0m\u001b[1;36m0\u001b[0m\u001b[1;33m\u001b[0m\u001b[0m\n\u001b[0;32m      4\u001b[0m \u001b[1;32mfor\u001b[0m \u001b[0mclass_folder_name\u001b[0m \u001b[1;32min\u001b[0m \u001b[0mos\u001b[0m\u001b[1;33m.\u001b[0m\u001b[0mlistdir\u001b[0m\u001b[1;33m(\u001b[0m\u001b[0mpath\u001b[0m\u001b[1;33m)\u001b[0m\u001b[1;33m:\u001b[0m\u001b[1;33m\u001b[0m\u001b[0m\n\u001b[1;32m----> 5\u001b[1;33m     \u001b[0mclass_folder_path\u001b[0m \u001b[1;33m=\u001b[0m \u001b[0mos\u001b[0m\u001b[1;33m.\u001b[0m\u001b[0mpath\u001b[0m\u001b[1;33m.\u001b[0m\u001b[0mjoin\u001b[0m\u001b[1;33m(\u001b[0m\u001b[0mdata\u001b[0m\u001b[1;33m,\u001b[0m \u001b[0mclass_folder_name\u001b[0m\u001b[1;33m)\u001b[0m\u001b[1;33m\u001b[0m\u001b[0m\n\u001b[0m\u001b[0;32m      6\u001b[0m     \u001b[0mclass_label\u001b[0m \u001b[1;33m=\u001b[0m \u001b[0mclass_folder_name\u001b[0m\u001b[1;33m\u001b[0m\u001b[0m\n\u001b[0;32m      7\u001b[0m \u001b[1;33m\u001b[0m\u001b[0m\n",
      "\u001b[1;32m~\\Anaconda3\\lib\\ntpath.py\u001b[0m in \u001b[0;36mjoin\u001b[1;34m(path, *paths)\u001b[0m\n\u001b[0;32m     74\u001b[0m \u001b[1;31m# Join two (or more) paths.\u001b[0m\u001b[1;33m\u001b[0m\u001b[1;33m\u001b[0m\u001b[0m\n\u001b[0;32m     75\u001b[0m \u001b[1;32mdef\u001b[0m \u001b[0mjoin\u001b[0m\u001b[1;33m(\u001b[0m\u001b[0mpath\u001b[0m\u001b[1;33m,\u001b[0m \u001b[1;33m*\u001b[0m\u001b[0mpaths\u001b[0m\u001b[1;33m)\u001b[0m\u001b[1;33m:\u001b[0m\u001b[1;33m\u001b[0m\u001b[0m\n\u001b[1;32m---> 76\u001b[1;33m     \u001b[0mpath\u001b[0m \u001b[1;33m=\u001b[0m \u001b[0mos\u001b[0m\u001b[1;33m.\u001b[0m\u001b[0mfspath\u001b[0m\u001b[1;33m(\u001b[0m\u001b[0mpath\u001b[0m\u001b[1;33m)\u001b[0m\u001b[1;33m\u001b[0m\u001b[0m\n\u001b[0m\u001b[0;32m     77\u001b[0m     \u001b[1;32mif\u001b[0m \u001b[0misinstance\u001b[0m\u001b[1;33m(\u001b[0m\u001b[0mpath\u001b[0m\u001b[1;33m,\u001b[0m \u001b[0mbytes\u001b[0m\u001b[1;33m)\u001b[0m\u001b[1;33m:\u001b[0m\u001b[1;33m\u001b[0m\u001b[0m\n\u001b[0;32m     78\u001b[0m         \u001b[0msep\u001b[0m \u001b[1;33m=\u001b[0m \u001b[1;34mb'\\\\'\u001b[0m\u001b[1;33m\u001b[0m\u001b[0m\n",
      "\u001b[1;31mTypeError\u001b[0m: expected str, bytes or os.PathLike object, not list"
     ]
    }
   ],
   "source": [
    "images = []\n",
    "classes=[]\n",
    "missing=0\n",
    "for class_folder_name in os.listdir(path):\n",
    "    class_folder_path = os.path.join(data, class_folder_name)\n",
    "    class_label = class_folder_name\n",
    "    \n",
    "    for image_path in glob(os.path.join(class_folder_path, \"*.png\")):\n",
    "        image_bgr = cv2.imread(image_path, cv2.IMREAD_COLOR)\n",
    "        if image_bgr is None: # if the file contain any missig value ignore it\n",
    "          missing += 1\n",
    "          continue\n",
    "        images.append(image_bgr)\n",
    "        \n",
    "        classes.append(class_label)"
   ]
  },
  {
   "cell_type": "code",
   "execution_count": 48,
   "metadata": {},
   "outputs": [],
   "source": [
    "images = [ ]\n",
    "for i in data:\n",
    "    #print(i)\n",
    "    for j in os.listdir(os.path.join(path,i)):\n",
    "        images.append(os.path.join(path,i,j))"
   ]
  },
  {
   "cell_type": "code",
   "execution_count": 49,
   "metadata": {
    "colab": {
     "base_uri": "https://localhost:8080/",
     "height": 33
    },
    "colab_type": "code",
    "id": "PtjQXND0udiw",
    "outputId": "9bdaa7d1-babe-43cb-cb83-06778b322ac2"
   },
   "outputs": [
    {
     "data": {
      "text/plain": [
       "4750"
      ]
     },
     "execution_count": 49,
     "metadata": {},
     "output_type": "execute_result"
    }
   ],
   "source": [
    "len(images)"
   ]
  },
  {
   "cell_type": "code",
   "execution_count": 50,
   "metadata": {},
   "outputs": [],
   "source": [
    "labels=[]\n",
    "for im in images:\n",
    "    l=re.split(r'[/.\\\\]',im)\n",
    "    #print(l)\n",
    "    labels.append(l[2])"
   ]
  },
  {
   "cell_type": "code",
   "execution_count": 51,
   "metadata": {
    "colab": {
     "base_uri": "https://localhost:8080/",
     "height": 33
    },
    "colab_type": "code",
    "id": "VXYG9jewuh0M",
    "outputId": "3ea12b6d-305b-4c5d-e0c1-1aaba237178e"
   },
   "outputs": [
    {
     "data": {
      "text/plain": [
       "4750"
      ]
     },
     "execution_count": 51,
     "metadata": {},
     "output_type": "execute_result"
    }
   ],
   "source": [
    "len(labels)"
   ]
  },
  {
   "cell_type": "code",
   "execution_count": 54,
   "metadata": {},
   "outputs": [],
   "source": [
    "images = images[:500]"
   ]
  },
  {
   "cell_type": "code",
   "execution_count": 55,
   "metadata": {},
   "outputs": [],
   "source": [
    "classes = labels[:500]"
   ]
  },
  {
   "cell_type": "markdown",
   "metadata": {
    "colab_type": "text",
    "id": "vncg2d_r89Fb"
   },
   "source": [
    "**Resizing images**"
   ]
  },
  {
   "cell_type": "code",
   "execution_count": null,
   "metadata": {},
   "outputs": [],
   "source": [
    "Images= []\n",
    "for imgs in images:\n",
    "    #print(row['path'])\n",
    "    img=image.load_img(imgs,target_size=(256,256))\n",
    "    img=image.img_to_array(img)\n",
    "    img=img.astype('float32')\n",
    "    img=img/255\n",
    "    #print(obj_image.shape)\n",
    "    images.append(img)"
   ]
  },
  {
   "cell_type": "code",
   "execution_count": 27,
   "metadata": {
    "colab": {
     "base_uri": "https://localhost:8080/",
     "height": 33
    },
    "colab_type": "code",
    "id": "Tlgh381Su9UM",
    "outputId": "225e5f18-ae1d-4475-e477-e55faefd2358"
   },
   "outputs": [],
   "source": [
    "images = np.array(images)"
   ]
  },
  {
   "cell_type": "code",
   "execution_count": 28,
   "metadata": {},
   "outputs": [
    {
     "data": {
      "text/plain": [
       "(0,)"
      ]
     },
     "execution_count": 28,
     "metadata": {},
     "output_type": "execute_result"
    }
   ],
   "source": [
    "images.shape"
   ]
  },
  {
   "cell_type": "markdown",
   "metadata": {
    "colab_type": "text",
    "id": "vvul2XQy9NrS"
   },
   "source": [
    "## Number of images in each class"
   ]
  },
  {
   "cell_type": "code",
   "execution_count": 17,
   "metadata": {
    "colab": {
     "base_uri": "https://localhost:8080/",
     "height": 251
    },
    "colab_type": "code",
    "id": "G6p0C1OavDDm",
    "outputId": "4843d86c-371f-4ac3-f2c2-f61ef665cb24"
   },
   "outputs": [
    {
     "name": "stdout",
     "output_type": "stream",
     "text": [
      "images shape:  (4750, 256, 256, 3)\n",
      "classes shape:  (4750,)\n",
      "number of Sugar beet images is  -> 385\n",
      "number of Common Chickweed images is  -> 611\n",
      "number of Shepherds Purse images is  -> 231\n",
      "number of Cleavers images is  -> 287\n",
      "number of Small-flowered Cranesbill images is  -> 496\n",
      "number of Maize images is  -> 221\n",
      "number of Common wheat images is  -> 221\n",
      "number of Loose Silky-bent images is  -> 654\n",
      "number of Scentless Mayweed images is  -> 516\n",
      "number of Fat Hen images is  -> 475\n",
      "number of Black-grass images is  -> 263\n",
      "number of Charlock images is  -> 390\n"
     ]
    }
   ],
   "source": [
    "#see number of images in each lablel\n",
    "images = np.array(images)\n",
    "classes = np.array(classes)\n",
    "print(\"images shape: \", images.shape)\n",
    "print(\"classes shape: \", classes.shape)\n",
    "#for key,value in images_per_class.items():\n",
    "   # print(\"number of {0} images is  -> {1}\".format(key, len(value)))\n",
    "  \n",
    "for label in set(classes):\n",
    "\n",
    "  print(\"number of {} images is  -> {}\".format(\n",
    "        label, \n",
    "        len(images[classes == label])))"
   ]
  },
  {
   "cell_type": "markdown",
   "metadata": {
    "colab_type": "text",
    "id": "k_4rOQE49dW7"
   },
   "source": [
    "## Distrbution of the images"
   ]
  },
  {
   "cell_type": "code",
   "execution_count": 18,
   "metadata": {
    "colab": {
     "base_uri": "https://localhost:8080/",
     "height": 507
    },
    "colab_type": "code",
    "id": "OEAgLMMmvM1T",
    "outputId": "6a226fce-5d6e-43b7-d0ff-612502db1f9f"
   },
   "outputs": [
    {
     "data": {
      "text/plain": [
       "Text(0.5, 0.98, 'Categorical Plotting')"
      ]
     },
     "execution_count": 18,
     "metadata": {
      "tags": []
     },
     "output_type": "execute_result"
    },
    {
     "data": {
      "image/png": "[encoded data removed]",
      "text/plain": [
       "<Figure size 1584x504 with 1 Axes>"
      ]
     },
     "metadata": {
      "needs_background": "light",
      "tags": []
     },
     "output_type": "display_data"
    }
   ],
   "source": [
    "values =[]\n",
    "labels=[]\n",
    "for label in set(classes):\n",
    "  values.append(len(images[classes == label]))\n",
    "  labels.append(label)\n",
    "\n",
    "fig, ax = plt.subplots(figsize=(22,7))\n",
    "ax.bar(labels, values)\n",
    "ax.set_xlabel(\" classes\")\n",
    "ax.set_ylabel(\"number of images\")\n",
    "#axs[1].scatter(label, )\n",
    "  #axs[2].plot(names, values)\n",
    "fig.suptitle('Categorical Plotting')"
   ]
  },
  {
   "cell_type": "code",
   "execution_count": 19,
   "metadata": {
    "colab": {
     "base_uri": "https://localhost:8080/",
     "height": 286
    },
    "colab_type": "code",
    "id": "pAg17RDAvRik",
    "outputId": "85c7f9e3-f131-4bad-9006-7326712f5e03"
   },
   "outputs": [
    {
     "data": {
      "text/plain": [
       "<matplotlib.image.AxesImage at 0x7fd11704d390>"
      ]
     },
     "execution_count": 19,
     "metadata": {
      "tags": []
     },
     "output_type": "execute_result"
    },
    {
     "data": {
      "image/png": "[encoded data removed]",
      "text/plain": [
       "<Figure size 432x288 with 1 Axes>"
      ]
     },
     "metadata": {
      "needs_background": "light",
      "tags": []
     },
     "output_type": "display_data"
    }
   ],
   "source": [
    "plt.imshow(images[500])"
   ]
  },
  {
   "cell_type": "code",
   "execution_count": 20,
   "metadata": {
    "colab": {},
    "colab_type": "code",
    "id": "C-8Qa4HWvU9a"
   },
   "outputs": [],
   "source": [
    "images = np.array(images)"
   ]
  },
  {
   "cell_type": "code",
   "execution_count": 21,
   "metadata": {
    "colab": {
     "base_uri": "https://localhost:8080/",
     "height": 33
    },
    "colab_type": "code",
    "id": "_I67_9d5vk8z",
    "outputId": "4ba35d14-6d2c-44a7-c1f6-7582d49b00ae"
   },
   "outputs": [
    {
     "data": {
      "text/plain": [
       "(4750, 256, 256, 3)"
      ]
     },
     "execution_count": 21,
     "metadata": {
      "tags": []
     },
     "output_type": "execute_result"
    }
   ],
   "source": [
    "images.shape"
   ]
  },
  {
   "cell_type": "markdown",
   "metadata": {
    "colab_type": "text",
    "id": "bSFY0Auf9saX"
   },
   "source": [
    "## Label encoder"
   ]
  },
  {
   "cell_type": "code",
   "execution_count": 22,
   "metadata": {
    "colab": {},
    "colab_type": "code",
    "id": "6QfskfHEvnFT"
   },
   "outputs": [],
   "source": [
    "from sklearn.preprocessing import LabelBinarizer\n",
    "enc = LabelBinarizer()\n",
    "y = enc.fit_transform(classes)"
   ]
  },
  {
   "cell_type": "code",
   "execution_count": 23,
   "metadata": {
    "colab": {
     "base_uri": "https://localhost:8080/",
     "height": 33
    },
    "colab_type": "code",
    "id": "_p5Z_cafvryy",
    "outputId": "fb1f2d75-5c74-48fa-f1dd-14645fc027ce"
   },
   "outputs": [
    {
     "data": {
      "text/plain": [
       "array([0, 0, 0, 0, 0, 0, 0, 0, 0, 0, 1, 0])"
      ]
     },
     "execution_count": 23,
     "metadata": {
      "tags": []
     },
     "output_type": "execute_result"
    }
   ],
   "source": [
    "y[0]\n"
   ]
  },
  {
   "cell_type": "markdown",
   "metadata": {
    "colab_type": "text",
    "id": "o0Y8WrsV918s"
   },
   "source": [
    "## Spliting data into training and testing "
   ]
  },
  {
   "cell_type": "code",
   "execution_count": 24,
   "metadata": {
    "colab": {},
    "colab_type": "code",
    "id": "bdx_3altvugj"
   },
   "outputs": [],
   "source": [
    "from sklearn.model_selection import train_test_split\n",
    "X_train, X_test, y_train, y_test = train_test_split(images, y, test_size=0.3, random_state=42)"
   ]
  },
  {
   "cell_type": "code",
   "execution_count": 25,
   "metadata": {
    "colab": {
     "base_uri": "https://localhost:8080/",
     "height": 33
    },
    "colab_type": "code",
    "id": "TZJLcUzPvzGa",
    "outputId": "78044c3a-7f1e-4359-823f-2952f06821c1"
   },
   "outputs": [
    {
     "data": {
      "text/plain": [
       "(3325, 256, 256, 3)"
      ]
     },
     "execution_count": 25,
     "metadata": {
      "tags": []
     },
     "output_type": "execute_result"
    }
   ],
   "source": [
    "X_train.shape"
   ]
  },
  {
   "cell_type": "code",
   "execution_count": 26,
   "metadata": {
    "colab": {
     "base_uri": "https://localhost:8080/",
     "height": 33
    },
    "colab_type": "code",
    "id": "8IJeTbkhVSh8",
    "outputId": "9847abe2-42f6-4383-e5ac-52fb3081bab5"
   },
   "outputs": [
    {
     "data": {
      "text/plain": [
       "(1425, 256, 256, 3)"
      ]
     },
     "execution_count": 26,
     "metadata": {
      "tags": []
     },
     "output_type": "execute_result"
    }
   ],
   "source": [
    "X_test.shape"
   ]
  },
  {
   "cell_type": "markdown",
   "metadata": {
    "colab_type": "text",
    "id": "0kiw_x3q-AK7"
   },
   "source": [
    "## CNN MODEL"
   ]
  },
  {
   "cell_type": "code",
   "execution_count": 28,
   "metadata": {
    "colab": {
     "base_uri": "https://localhost:8080/",
     "height": 686
    },
    "colab_type": "code",
    "id": "bof1tio0v2hd",
    "outputId": "ffc9437e-1d8e-4606-c70a-b98f11c24aa1"
   },
   "outputs": [
    {
     "name": "stdout",
     "output_type": "stream",
     "text": [
      "Model: \"sequential\"\n",
      "_________________________________________________________________\n",
      "Layer (type)                 Output Shape              Param #   \n",
      "=================================================================\n",
      "conv2d (Conv2D)              (None, 256, 256, 32)      2432      \n",
      "_________________________________________________________________\n",
      "conv2d_1 (Conv2D)            (None, 256, 256, 32)      25632     \n",
      "_________________________________________________________________\n",
      "max_pooling2d (MaxPooling2D) (None, 128, 128, 32)      0         \n",
      "_________________________________________________________________\n",
      "dropout (Dropout)            (None, 128, 128, 32)      0         \n",
      "_________________________________________________________________\n",
      "conv2d_2 (Conv2D)            (None, 128, 128, 64)      18496     \n",
      "_________________________________________________________________\n",
      "conv2d_3 (Conv2D)            (None, 128, 128, 64)      36928     \n",
      "_________________________________________________________________\n",
      "max_pooling2d_1 (MaxPooling2 (None, 64, 64, 64)        0         \n",
      "_________________________________________________________________\n",
      "dropout_1 (Dropout)          (None, 64, 64, 64)        0         \n",
      "_________________________________________________________________\n",
      "conv2d_4 (Conv2D)            (None, 64, 64, 128)       73856     \n",
      "_________________________________________________________________\n",
      "conv2d_5 (Conv2D)            (None, 64, 64, 128)       147584    \n",
      "_________________________________________________________________\n",
      "max_pooling2d_2 (MaxPooling2 (None, 32, 32, 128)       0         \n",
      "_________________________________________________________________\n",
      "dropout_2 (Dropout)          (None, 32, 32, 128)       0         \n",
      "_________________________________________________________________\n",
      "global_max_pooling2d (Global (None, 128)               0         \n",
      "_________________________________________________________________\n",
      "dense (Dense)                (None, 256)               33024     \n",
      "_________________________________________________________________\n",
      "dropout_3 (Dropout)          (None, 256)               0         \n",
      "_________________________________________________________________\n",
      "dense_1 (Dense)              (None, 12)                3084      \n",
      "=================================================================\n",
      "Total params: 341,036\n",
      "Trainable params: 341,036\n",
      "Non-trainable params: 0\n",
      "_________________________________________________________________\n"
     ]
    }
   ],
   "source": [
    "# Set the CNN model \n",
    "\n",
    "batch_size = None\n",
    "\n",
    "model = Sequential()\n",
    "\n",
    "model.add(Conv2D(filters = 32, kernel_size = (5,5),padding = 'Same', \n",
    "                 activation ='relu', batch_input_shape = (batch_size,256, 256, 3)))\n",
    "\n",
    "\n",
    "model.add(Conv2D(filters = 32, kernel_size = (5,5),padding = 'Same', \n",
    "                 activation ='relu'))\n",
    "model.add(MaxPool2D(pool_size=(2,2)))\n",
    "model.add(Dropout(0.2))\n",
    "\n",
    "\n",
    "model.add(Conv2D(filters = 64, kernel_size = (3,3),padding = 'Same', \n",
    "                 activation ='relu'))\n",
    "model.add(Conv2D(filters = 64, kernel_size = (3,3),padding = 'same', \n",
    "                 activation ='relu'))\n",
    "model.add(MaxPool2D(pool_size=(2,2), strides=(2,2)))\n",
    "model.add(Dropout(0.3))\n",
    "\n",
    "model.add(Conv2D(filters = 128, kernel_size = (3,3),padding = 'Same', \n",
    "                 activation ='relu'))\n",
    "model.add(Conv2D(filters = 128, kernel_size = (3,3),padding = 'Same', \n",
    "                 activation ='relu'))\n",
    "model.add(MaxPool2D(pool_size=(2,2), strides=(2,2)))\n",
    "model.add(Dropout(0.4))\n",
    "\n",
    "\n",
    "\n",
    "model.add(GlobalMaxPooling2D())\n",
    "model.add(Dense(256, activation = \"relu\"))\n",
    "model.add(Dropout(0.5))\n",
    "model.add(Dense(12, activation = \"softmax\"))\n",
    "model.summary()\n"
   ]
  },
  {
   "cell_type": "code",
   "execution_count": 29,
   "metadata": {
    "colab": {},
    "colab_type": "code",
    "id": "3iuSmJCBv9la"
   },
   "outputs": [],
   "source": [
    "opt = Adam(lr=0.001)\n",
    "\n",
    "optimizer = RMSprop(lr=0.001, rho=0.9, epsilon=1e-08, decay=0.0)\n",
    "model.compile(optimizer = optimizer, loss = \"categorical_crossentropy\", metrics = [\"accuracy\"])"
   ]
  },
  {
   "cell_type": "code",
   "execution_count": 33,
   "metadata": {
    "colab": {
     "base_uri": "https://localhost:8080/",
     "height": 722
    },
    "colab_type": "code",
    "id": "QFxdr_arwEx8",
    "outputId": "3ed35f05-7f7e-4508-f86c-4540e590af28"
   },
   "outputs": [
    {
     "name": "stdout",
     "output_type": "stream",
     "text": [
      "Epoch 1/20\n",
      " 2/26 [=>............................] - ETA: 16s - loss: 0.4620 - accuracy: 0.8359WARNING:tensorflow:Callbacks method `on_train_batch_end` is slow compared to the batch time (batch time: 0.1903s vs `on_train_batch_end` time: 0.5864s). Check your callbacks.\n",
      "26/26 [==============================] - 22s 854ms/step - loss: 0.6447 - accuracy: 0.7768 - val_loss: 1.3027 - val_accuracy: 0.5621\n",
      "Epoch 2/20\n",
      "26/26 [==============================] - 23s 869ms/step - loss: 0.6486 - accuracy: 0.7768 - val_loss: 0.6025 - val_accuracy: 0.8218\n",
      "Epoch 3/20\n",
      "26/26 [==============================] - 22s 853ms/step - loss: 0.6156 - accuracy: 0.7795 - val_loss: 0.6157 - val_accuracy: 0.7853\n",
      "Epoch 4/20\n",
      "26/26 [==============================] - 22s 849ms/step - loss: 0.5827 - accuracy: 0.7958 - val_loss: 0.5665 - val_accuracy: 0.8049\n",
      "Epoch 5/20\n",
      "26/26 [==============================] - 22s 855ms/step - loss: 0.6522 - accuracy: 0.7747 - val_loss: 0.7487 - val_accuracy: 0.7481\n",
      "Epoch 6/20\n",
      "26/26 [==============================] - 22s 857ms/step - loss: 0.5792 - accuracy: 0.7979 - val_loss: 0.6269 - val_accuracy: 0.7874\n",
      "Epoch 7/20\n",
      "26/26 [==============================] - 22s 854ms/step - loss: 0.6097 - accuracy: 0.7901 - val_loss: 0.6163 - val_accuracy: 0.8105\n",
      "Epoch 8/20\n",
      "26/26 [==============================] - 22s 854ms/step - loss: 0.5856 - accuracy: 0.8006 - val_loss: 0.8129 - val_accuracy: 0.7867\n",
      "Epoch 9/20\n",
      "26/26 [==============================] - 22s 855ms/step - loss: 0.5832 - accuracy: 0.7997 - val_loss: 0.5098 - val_accuracy: 0.8491\n",
      "Epoch 10/20\n",
      "26/26 [==============================] - 22s 855ms/step - loss: 0.5055 - accuracy: 0.8238 - val_loss: 0.4896 - val_accuracy: 0.8505\n",
      "Epoch 11/20\n",
      "26/26 [==============================] - 22s 854ms/step - loss: 0.5279 - accuracy: 0.8144 - val_loss: 0.8825 - val_accuracy: 0.6898\n",
      "Epoch 12/20\n",
      "26/26 [==============================] - 22s 854ms/step - loss: 0.5734 - accuracy: 0.8057 - val_loss: 0.5423 - val_accuracy: 0.8204\n",
      "Epoch 13/20\n",
      "26/26 [==============================] - 22s 855ms/step - loss: 0.5312 - accuracy: 0.8241 - val_loss: 0.4949 - val_accuracy: 0.8372\n",
      "Epoch 14/20\n",
      "26/26 [==============================] - 22s 855ms/step - loss: 0.4837 - accuracy: 0.8292 - val_loss: 0.6439 - val_accuracy: 0.7740\n",
      "Epoch 15/20\n",
      "26/26 [==============================] - 22s 854ms/step - loss: 0.4895 - accuracy: 0.8301 - val_loss: 0.4810 - val_accuracy: 0.8316\n",
      "Epoch 16/20\n",
      "26/26 [==============================] - 22s 853ms/step - loss: 0.5339 - accuracy: 0.8114 - val_loss: 0.4779 - val_accuracy: 0.8547\n",
      "Epoch 17/20\n",
      "26/26 [==============================] - 22s 853ms/step - loss: 0.4336 - accuracy: 0.8445 - val_loss: 0.9118 - val_accuracy: 0.7109\n",
      "Epoch 18/20\n",
      "26/26 [==============================] - 22s 854ms/step - loss: 0.4292 - accuracy: 0.8394 - val_loss: 0.6960 - val_accuracy: 0.7614\n",
      "Epoch 19/20\n",
      "26/26 [==============================] - 22s 855ms/step - loss: 0.4899 - accuracy: 0.8355 - val_loss: 0.6548 - val_accuracy: 0.7754\n",
      "Epoch 20/20\n",
      "26/26 [==============================] - 22s 853ms/step - loss: 0.4749 - accuracy: 0.8322 - val_loss: 0.6115 - val_accuracy: 0.8014\n"
     ]
    }
   ],
   "source": [
    "history = model.fit(X_train, y_train, epochs = 20, validation_data = (X_test,y_test),batch_size = 128)"
   ]
  },
  {
   "cell_type": "code",
   "execution_count": 43,
   "metadata": {
    "colab": {
     "base_uri": "https://localhost:8080/",
     "height": 265
    },
    "colab_type": "code",
    "id": "3kZypl7XmSDK",
    "outputId": "49cfa101-545e-4615-e4f3-feb5d80e42ea"
   },
   "outputs": [
    {
     "data": {
      "image/png": "[encoded data removed]",
      "text/plain": [
       "<Figure size 432x288 with 1 Axes>"
      ]
     },
     "metadata": {
      "needs_background": "light",
      "tags": []
     },
     "output_type": "display_data"
    }
   ],
   "source": [
    "plt.plot(history.history['accuracy'], 'r')\n",
    "plt.plot(history.history['val_accuracy'], 'b')\n",
    "plt.legend({'Train Accuracy': 'r', 'Test Accuracy':'b'})\n",
    "plt.show()"
   ]
  },
  {
   "cell_type": "code",
   "execution_count": 38,
   "metadata": {
    "colab": {
     "base_uri": "https://localhost:8080/",
     "height": 50
    },
    "colab_type": "code",
    "id": "adQJP3kpm0xV",
    "outputId": "8f94531a-5bd1-4a00-fc9b-9d4529847a99"
   },
   "outputs": [
    {
     "name": "stdout",
     "output_type": "stream",
     "text": [
      "Test loss: 0.6114797592163086\n",
      "Test accuracy: 0.8014035224914551\n"
     ]
    }
   ],
   "source": [
    "score = model.evaluate(X_test, y_test, verbose=0)\n",
    "print('Test accuracy:', score[1])"
   ]
  },
  {
   "cell_type": "code",
   "execution_count": 70,
   "metadata": {
    "colab": {},
    "colab_type": "code",
    "id": "nX4xgc0mVDUw"
   },
   "outputs": [],
   "source": [
    "import pandas as pd\n",
    "results1 = pd.DataFrame(columns=['model', 'Test-Accuracy' ])\n",
    "new = ['CNN ',0.8014]\n",
    "results1.loc[0] = new"
   ]
  },
  {
   "cell_type": "code",
   "execution_count": 34,
   "metadata": {
    "colab": {
     "base_uri": "https://localhost:8080/",
     "height": 335
    },
    "colab_type": "code",
    "id": "Hvodj86mlQKv",
    "outputId": "00203b83-9e64-422e-aec0-81d123f4d359"
   },
   "outputs": [
    {
     "name": "stdout",
     "output_type": "stream",
     "text": [
      "WARNING:tensorflow:From <ipython-input-34-e1ff5d52176e>:2: Sequential.predict_classes (from tensorflow.python.keras.engine.sequential) is deprecated and will be removed after 2021-01-01.\n",
      "Instructions for updating:\n",
      "Please use instead:* `np.argmax(model.predict(x), axis=-1)`,   if your model does multi-class classification   (e.g. if it uses a `softmax` last-layer activation).* `(model.predict(x) > 0.5).astype(\"int32\")`,   if your model does binary classification   (e.g. if it uses a `sigmoid` last-layer activation).\n"
     ]
    },
    {
     "data": {
      "image/png": "[encoded data removed]",
      "text/plain": [
       "<Figure size 432x288 with 2 Axes>"
      ]
     },
     "metadata": {
      "needs_background": "light",
      "tags": []
     },
     "output_type": "display_data"
    }
   ],
   "source": [
    "from sklearn.metrics import confusion_matrix\n",
    "cm=sns.heatmap(confusion_matrix(model.predict_classes(X_test),np.argmax(y_test,axis=1)),annot=True)"
   ]
  },
  {
   "cell_type": "markdown",
   "metadata": {
    "colab_type": "text",
    "id": "Zs9WydDiko4r"
   },
   "source": [
    "## VGG_16 Model\n"
   ]
  },
  {
   "cell_type": "code",
   "execution_count": 27,
   "metadata": {
    "colab": {},
    "colab_type": "code",
    "id": "EiBa4_HnOhb_"
   },
   "outputs": [],
   "source": [
    "from keras.applications.vgg16 import VGG16\n"
   ]
  },
  {
   "cell_type": "code",
   "execution_count": 28,
   "metadata": {
    "colab": {
     "base_uri": "https://localhost:8080/",
     "height": 50
    },
    "colab_type": "code",
    "id": "kGIu-63UNsMB",
    "outputId": "0c77ea7a-1523-4e32-e838-c00c4cdd5e6c"
   },
   "outputs": [
    {
     "name": "stdout",
     "output_type": "stream",
     "text": [
      "Downloading data from https://storage.googleapis.com/tensorflow/keras-applications/vgg16/vgg16_weights_tf_dim_ordering_tf_kernels_notop.h5\n",
      "58892288/58889256 [==============================] - 0s 0us/step\n"
     ]
    }
   ],
   "source": [
    "vgg=VGG16(weights='imagenet',include_top=False,input_shape=(256,256,3))"
   ]
  },
  {
   "cell_type": "code",
   "execution_count": 29,
   "metadata": {
    "colab": {},
    "colab_type": "code",
    "id": "Dwnl9YT7N6V_"
   },
   "outputs": [],
   "source": [
    "vgg.trainable=False"
   ]
  },
  {
   "cell_type": "code",
   "execution_count": 30,
   "metadata": {
    "colab": {},
    "colab_type": "code",
    "id": "xni9ctR3Opgy"
   },
   "outputs": [],
   "source": [
    "model_1=Sequential()\n",
    "model_1.add(vgg)\n",
    "model_1.add(Flatten())\n",
    "model_1.add(Dense(128, activation='relu'))\n",
    "model_1.add(Dropout(0.2))\n",
    "model_1.add(Dense(12, activation='softmax'))"
   ]
  },
  {
   "cell_type": "code",
   "execution_count": 31,
   "metadata": {
    "colab": {},
    "colab_type": "code",
    "id": "yUPpsHdMOsgM"
   },
   "outputs": [],
   "source": [
    "opt = Adam(lr=0.001)\n",
    "\n",
    "optimizer = RMSprop(lr=0.001, rho=0.9, epsilon=1e-08, decay=0.0)\n",
    "model_1.compile(optimizer = optimizer, loss = \"categorical_crossentropy\", metrics = [\"accuracy\"])"
   ]
  },
  {
   "cell_type": "code",
   "execution_count": 32,
   "metadata": {
    "colab": {
     "base_uri": "https://localhost:8080/",
     "height": 686
    },
    "colab_type": "code",
    "id": "E1XDkp-gOvFm",
    "outputId": "b037721b-7774-46f7-bba5-7fa5e4bc65b4"
   },
   "outputs": [
    {
     "name": "stdout",
     "output_type": "stream",
     "text": [
      "Epoch 1/20\n",
      "52/52 [==============================] - 22s 432ms/step - loss: 11.8238 - accuracy: 0.3194 - val_loss: 1.9652 - val_accuracy: 0.4218\n",
      "Epoch 2/20\n",
      "52/52 [==============================] - 20s 382ms/step - loss: 1.9525 - accuracy: 0.4710 - val_loss: 1.4494 - val_accuracy: 0.5867\n",
      "Epoch 3/20\n",
      "52/52 [==============================] - 20s 391ms/step - loss: 1.3497 - accuracy: 0.6391 - val_loss: 1.5372 - val_accuracy: 0.6021\n",
      "Epoch 4/20\n",
      "52/52 [==============================] - 20s 394ms/step - loss: 0.9359 - accuracy: 0.7459 - val_loss: 1.0610 - val_accuracy: 0.7467\n",
      "Epoch 5/20\n",
      "52/52 [==============================] - 21s 403ms/step - loss: 0.7405 - accuracy: 0.8003 - val_loss: 0.9323 - val_accuracy: 0.7712\n",
      "Epoch 6/20\n",
      "52/52 [==============================] - 21s 412ms/step - loss: 0.6437 - accuracy: 0.8250 - val_loss: 1.2371 - val_accuracy: 0.7453\n",
      "Epoch 7/20\n",
      "52/52 [==============================] - 22s 419ms/step - loss: 0.6004 - accuracy: 0.8538 - val_loss: 1.0538 - val_accuracy: 0.7754\n",
      "Epoch 8/20\n",
      "52/52 [==============================] - 22s 418ms/step - loss: 0.5203 - accuracy: 0.8728 - val_loss: 1.1398 - val_accuracy: 0.7881\n",
      "Epoch 9/20\n",
      "52/52 [==============================] - 22s 423ms/step - loss: 0.4315 - accuracy: 0.8857 - val_loss: 1.3739 - val_accuracy: 0.7621\n",
      "Epoch 10/20\n",
      "52/52 [==============================] - 22s 429ms/step - loss: 0.3821 - accuracy: 0.8983 - val_loss: 1.0138 - val_accuracy: 0.7733\n",
      "Epoch 11/20\n",
      "52/52 [==============================] - 22s 430ms/step - loss: 0.3738 - accuracy: 0.9098 - val_loss: 1.3294 - val_accuracy: 0.7804\n",
      "Epoch 12/20\n",
      "52/52 [==============================] - 23s 435ms/step - loss: 0.3244 - accuracy: 0.9191 - val_loss: 1.2867 - val_accuracy: 0.7747\n",
      "Epoch 13/20\n",
      "52/52 [==============================] - 23s 439ms/step - loss: 0.3245 - accuracy: 0.9260 - val_loss: 2.0319 - val_accuracy: 0.7607\n",
      "Epoch 14/20\n",
      "52/52 [==============================] - 23s 442ms/step - loss: 0.3336 - accuracy: 0.9218 - val_loss: 1.3932 - val_accuracy: 0.7916\n",
      "Epoch 15/20\n",
      "52/52 [==============================] - 23s 443ms/step - loss: 0.3436 - accuracy: 0.9260 - val_loss: 1.6401 - val_accuracy: 0.8239\n",
      "Epoch 16/20\n",
      "52/52 [==============================] - 23s 443ms/step - loss: 0.2306 - accuracy: 0.9411 - val_loss: 1.8922 - val_accuracy: 0.8056\n",
      "Epoch 17/20\n",
      "52/52 [==============================] - 23s 444ms/step - loss: 0.2374 - accuracy: 0.9389 - val_loss: 2.0108 - val_accuracy: 0.7930\n",
      "Epoch 18/20\n",
      "52/52 [==============================] - 23s 443ms/step - loss: 0.2765 - accuracy: 0.9356 - val_loss: 1.6925 - val_accuracy: 0.8189\n",
      "Epoch 19/20\n",
      "52/52 [==============================] - 23s 443ms/step - loss: 0.2646 - accuracy: 0.9483 - val_loss: 1.7105 - val_accuracy: 0.8077\n",
      "Epoch 20/20\n",
      "52/52 [==============================] - 23s 443ms/step - loss: 0.2332 - accuracy: 0.9486 - val_loss: 1.8070 - val_accuracy: 0.8070\n"
     ]
    }
   ],
   "source": [
    "History_1 = model_1.fit(X_train, y_train, epochs = 20, validation_data = (X_test,y_test),batch_size = 64)"
   ]
  },
  {
   "cell_type": "code",
   "execution_count": 33,
   "metadata": {
    "colab": {
     "base_uri": "https://localhost:8080/",
     "height": 33
    },
    "colab_type": "code",
    "id": "nZ7v5ThqO4Xw",
    "outputId": "8c21a90a-8277-4bf2-f6cc-d0654d643fdf"
   },
   "outputs": [
    {
     "name": "stdout",
     "output_type": "stream",
     "text": [
      "Test accuracy: 0.8070175647735596\n"
     ]
    }
   ],
   "source": [
    "score = model_1.evaluate(X_test, y_test, verbose=0)\n",
    "print('Test accuracy:', score[1])"
   ]
  },
  {
   "cell_type": "code",
   "execution_count": 71,
   "metadata": {
    "colab": {},
    "colab_type": "code",
    "id": "P9ag07nOVYW3"
   },
   "outputs": [],
   "source": [
    "new = ['VGG16 ',0.8070]\n",
    "results1.loc[1] = new"
   ]
  },
  {
   "cell_type": "code",
   "execution_count": 68,
   "metadata": {
    "colab": {
     "base_uri": "https://localhost:8080/",
     "height": 265
    },
    "colab_type": "code",
    "id": "LLto2HBUxi2Q",
    "outputId": "d4680efe-48d3-4fbd-9d85-581cf271028f"
   },
   "outputs": [
    {
     "data": {
      "image/png": "[encoded data removed]",
      "text/plain": [
       "<Figure size 432x288 with 1 Axes>"
      ]
     },
     "metadata": {
      "needs_background": "light",
      "tags": []
     },
     "output_type": "display_data"
    }
   ],
   "source": [
    "plt.plot(History_1.history['accuracy'], 'r')\n",
    "plt.plot(History_1.history['val_accuracy'], 'b')\n",
    "plt.legend({'Train Accuracy': 'r', 'Test Accuracy':'b'})\n",
    "plt.show()"
   ]
  },
  {
   "cell_type": "code",
   "execution_count": 69,
   "metadata": {
    "colab": {
     "base_uri": "https://localhost:8080/",
     "height": 269
    },
    "colab_type": "code",
    "id": "-pgxtLlYH7P4",
    "outputId": "f704167c-aad9-4121-c4c0-807ac0d28148"
   },
   "outputs": [
    {
     "data": {
      "image/png": "[encoded data removed]",
      "text/plain": [
       "<Figure size 432x288 with 2 Axes>"
      ]
     },
     "metadata": {
      "needs_background": "light",
      "tags": []
     },
     "output_type": "display_data"
    }
   ],
   "source": [
    "from sklearn.metrics import confusion_matrix\n",
    "cm=sns.heatmap(confusion_matrix(model_1.predict_classes(X_test),np.argmax(y_test,axis=1)),annot=True)"
   ]
  },
  {
   "cell_type": "markdown",
   "metadata": {
    "colab_type": "text",
    "id": "XBIcJPK6ViNE"
   },
   "source": [
    "## Performance Table"
   ]
  },
  {
   "cell_type": "code",
   "execution_count": 72,
   "metadata": {
    "colab": {
     "base_uri": "https://localhost:8080/",
     "height": 107
    },
    "colab_type": "code",
    "id": "tv9bWM2RT-eM",
    "outputId": "f9d6c9e6-64ec-4616-d54b-61fb3b93e261"
   },
   "outputs": [
    {
     "data": {
      "text/html": [
       "<div>\n",
       "<style scoped>\n",
       "    .dataframe tbody tr th:only-of-type {\n",
       "        vertical-align: middle;\n",
       "    }\n",
       "\n",
       "    .dataframe tbody tr th {\n",
       "        vertical-align: top;\n",
       "    }\n",
       "\n",
       "    .dataframe thead th {\n",
       "        text-align: right;\n",
       "    }\n",
       "</style>\n",
       "<table border=\"1\" class=\"dataframe\">\n",
       "  <thead>\n",
       "    <tr style=\"text-align: right;\">\n",
       "      <th></th>\n",
       "      <th>model</th>\n",
       "      <th>Test-Accuracy</th>\n",
       "    </tr>\n",
       "  </thead>\n",
       "  <tbody>\n",
       "    <tr>\n",
       "      <th>0</th>\n",
       "      <td>CNN</td>\n",
       "      <td>0.8014</td>\n",
       "    </tr>\n",
       "    <tr>\n",
       "      <th>1</th>\n",
       "      <td>VGG16</td>\n",
       "      <td>0.8070</td>\n",
       "    </tr>\n",
       "  </tbody>\n",
       "</table>\n",
       "</div>"
      ],
      "text/plain": [
       "    model  Test-Accuracy\n",
       "0    CNN          0.8014\n",
       "1  VGG16          0.8070"
      ]
     },
     "execution_count": 72,
     "metadata": {
      "tags": []
     },
     "output_type": "execute_result"
    }
   ],
   "source": [
    "results1"
   ]
  }
 ],
 "metadata": {
  "accelerator": "GPU",
  "colab": {
   "collapsed_sections": [],
   "name": "Plant_Seedlings_4750",
   "provenance": []
  },
  "kernelspec": {
   "display_name": "Python 3",
   "language": "python",
   "name": "python3"
  },
  "language_info": {
   "codemirror_mode": {
    "name": "ipython",
    "version": 3
   },
   "file_extension": ".py",
   "mimetype": "text/x-python",
   "name": "python",
   "nbconvert_exporter": "python",
   "pygments_lexer": "ipython3",
   "version": "3.6.5"
  }
 },
 "nbformat": 4,
 "nbformat_minor": 1
}
